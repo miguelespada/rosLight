{
 "cells": [
  {
   "cell_type": "code",
   "execution_count": 1,
   "metadata": {},
   "outputs": [],
   "source": [
    "import sys\n",
    "import copy\n",
    "import rospy\n",
    "import moveit_commander\n",
    "import moveit_msgs.msg\n",
    "import geometry_msgs.msg\n",
    "\n",
    "from geometry_msgs.msg import PoseStamped"
   ]
  },
  {
   "cell_type": "code",
   "execution_count": 2,
   "metadata": {},
   "outputs": [
    {
     "name": "stdout",
     "output_type": "stream",
     "text": [
      "============ Starting tutorial setup\n"
     ]
    }
   ],
   "source": [
    "print \"============ Starting tutorial setup\"\n",
    "moveit_commander.roscpp_initialize(sys.argv)\n",
    "rospy.init_node('move_group_python_interface_tutorial',\n",
    "                anonymous=True)"
   ]
  },
  {
   "cell_type": "code",
   "execution_count": 3,
   "metadata": {},
   "outputs": [],
   "source": [
    "robot = moveit_commander.RobotCommander()"
   ]
  },
  {
   "cell_type": "code",
   "execution_count": 4,
   "metadata": {},
   "outputs": [
    {
     "data": {
      "text/plain": [
       "['endeffector', 'manipulator']"
      ]
     },
     "execution_count": 4,
     "metadata": {},
     "output_type": "execute_result"
    }
   ],
   "source": [
    "robot.get_group_names()"
   ]
  },
  {
   "cell_type": "code",
   "execution_count": 5,
   "metadata": {},
   "outputs": [
    {
     "data": {
      "text/plain": [
       "['ASSUMED_FIXED_ROOT_JOINT',\n",
       " 'world_joint',\n",
       " 'base_link-base_fixed_joint',\n",
       " 'shoulder_pan_joint',\n",
       " 'shoulder_lift_joint',\n",
       " 'elbow_joint',\n",
       " 'wrist_1_joint',\n",
       " 'wrist_2_joint',\n",
       " 'wrist_3_joint',\n",
       " 'ee_fixed_joint',\n",
       " 'wrist_3_link-tool0_fixed_joint']"
      ]
     },
     "execution_count": 5,
     "metadata": {},
     "output_type": "execute_result"
    }
   ],
   "source": [
    "robot.get_joint_names()"
   ]
  },
  {
   "cell_type": "code",
   "execution_count": 6,
   "metadata": {},
   "outputs": [],
   "source": [
    "scene = moveit_commander.PlanningSceneInterface()"
   ]
  },
  {
   "cell_type": "code",
   "execution_count": 7,
   "metadata": {},
   "outputs": [],
   "source": [
    "group = moveit_commander.MoveGroupCommander(\"manipulator\")"
   ]
  },
  {
   "cell_type": "code",
   "execution_count": 8,
   "metadata": {},
   "outputs": [
    {
     "data": {
      "text/plain": [
       "'/world'"
      ]
     },
     "execution_count": 8,
     "metadata": {},
     "output_type": "execute_result"
    }
   ],
   "source": [
    "robot.get_planning_frame()"
   ]
  },
  {
   "cell_type": "code",
   "execution_count": 9,
   "metadata": {},
   "outputs": [],
   "source": []
  },
  {
   "cell_type": "code",
   "execution_count": 12,
   "metadata": {},
   "outputs": [],
   "source": [
    "p = PoseStamped()\n",
    "p.header.frame_id = robot.get_planning_frame()\n",
    "p.pose.position.x = 0.8\n",
    "p.pose.position.y = 0\n",
    "p.pose.position.z = 0.4\n",
    "scene.add_box(\"box1\", p, size = (0.2, 0.2, 0.2))\n",
    "\n",
    "\n"
   ]
  },
  {
   "cell_type": "code",
   "execution_count": null,
   "metadata": {},
   "outputs": [],
   "source": [
    "print \"============ End effector: %s\" % group.get_end_effector_link()"
   ]
  },
  {
   "cell_type": "code",
   "execution_count": null,
   "metadata": {},
   "outputs": [],
   "source": [
    "display_trajectory_publisher = rospy.Publisher(\n",
    "                                    '/move_group/display_planned_path',\n",
    "                                    moveit_msgs.msg.DisplayTrajectory,\n",
    "                                    queue_size=20)\n"
   ]
  },
  {
   "cell_type": "code",
   "execution_count": null,
   "metadata": {},
   "outputs": [],
   "source": [
    "print \"============ Robot Groups:\"\n",
    "print robot.get_group_names()"
   ]
  },
  {
   "cell_type": "code",
   "execution_count": null,
   "metadata": {},
   "outputs": [],
   "source": [
    "print \"============ Generating plan 1\"\n",
    "pose_target = group.get_random_pose()\n",
    "group.set_pose_target(pose_target)\n",
    "\n"
   ]
  },
  {
   "cell_type": "code",
   "execution_count": null,
   "metadata": {},
   "outputs": [],
   "source": [
    "group.execute(plan1)"
   ]
  },
  {
   "cell_type": "code",
   "execution_count": null,
   "metadata": {},
   "outputs": [],
   "source": [
    "plan1 = group.plan()\n",
    "print \"============ Waiting while RVIZ displays plan1...\"\n",
    "rospy.sleep(5)"
   ]
  },
  {
   "cell_type": "code",
   "execution_count": null,
   "metadata": {},
   "outputs": [],
   "source": []
  },
  {
   "cell_type": "code",
   "execution_count": null,
   "metadata": {},
   "outputs": [],
   "source": [
    "print \"============ Visualizing plan1\"\n",
    "display_trajectory = moveit_msgs.msg.DisplayTrajectory()\n",
    "display_trajectory.trajectory_start = robot.get_current_state()\n",
    "display_trajectory.trajectory.append(plan1)\n",
    "display_trajectory_publisher.publish(display_trajectory);\n",
    "\n",
    "\n",
    "print \"============ Waiting while plan1 is visualized (again)...\"\n",
    "rospy.sleep(5)"
   ]
  },
  {
   "cell_type": "code",
   "execution_count": null,
   "metadata": {},
   "outputs": [],
   "source": [
    "goal_publisher = rospy.Publisher(\n",
    "                                    '/move_group/goal',\n",
    "                                    moveit_msgs.msg.MoveGroupActionGoal,\n",
    "                                    queue_size=20)\n",
    "\n",
    "goal_msg = moveit_msgs.msg.MoveGroupActionGoal()"
   ]
  },
  {
   "cell_type": "code",
   "execution_count": null,
   "metadata": {},
   "outputs": [],
   "source": [
    "goal_msg.goal = pose_target\n",
    "goal_publisher.publish(goal_msg)"
   ]
  },
  {
   "cell_type": "code",
   "execution_count": null,
   "metadata": {},
   "outputs": [],
   "source": [
    "robot.get_link_names()"
   ]
  },
  {
   "cell_type": "code",
   "execution_count": null,
   "metadata": {},
   "outputs": [],
   "source": [
    "group.get_name()"
   ]
  },
  {
   "cell_type": "code",
   "execution_count": null,
   "metadata": {},
   "outputs": [],
   "source": [
    "group.set_end_effector_link(\"ee_link\")"
   ]
  },
  {
   "cell_type": "code",
   "execution_count": null,
   "metadata": {},
   "outputs": [],
   "source": [
    "plan1 = group.plan()"
   ]
  },
  {
   "cell_type": "code",
   "execution_count": null,
   "metadata": {},
   "outputs": [],
   "source": [
    "group.execute(plan1)"
   ]
  },
  {
   "cell_type": "code",
   "execution_count": null,
   "metadata": {},
   "outputs": [],
   "source": [
    "group.clear_pose_targets()"
   ]
  },
  {
   "cell_type": "code",
   "execution_count": null,
   "metadata": {},
   "outputs": [],
   "source": [
    "group.allow_replanning(True)"
   ]
  },
  {
   "cell_type": "code",
   "execution_count": null,
   "metadata": {},
   "outputs": [],
   "source": [
    "group.clear_pose_targets()"
   ]
  },
  {
   "cell_type": "code",
   "execution_count": null,
   "metadata": {},
   "outputs": [],
   "source": [
    "group_variable_values = group.get_current_joint_values()\n",
    "print \"============ Joint values: \", group_variable_values"
   ]
  },
  {
   "cell_type": "code",
   "execution_count": 32,
   "metadata": {},
   "outputs": [
    {
     "ename": "NameError",
     "evalue": "name 'group_variable_values' is not defined",
     "output_type": "error",
     "traceback": [
      "\u001b[0;31m---------------------------------------------------------------------------\u001b[0m",
      "\u001b[0;31mNameError\u001b[0m                                 Traceback (most recent call last)",
      "\u001b[0;32m<ipython-input-32-0999409d342c>\u001b[0m in \u001b[0;36m<module>\u001b[0;34m()\u001b[0m\n\u001b[0;32m----> 1\u001b[0;31m \u001b[0mgroup_variable_values\u001b[0m\u001b[0;34m[\u001b[0m\u001b[0;36m0\u001b[0m\u001b[0;34m]\u001b[0m \u001b[0;34m=\u001b[0m \u001b[0;36m1.0\u001b[0m\u001b[0;34m\u001b[0m\u001b[0m\n\u001b[0m\u001b[1;32m      2\u001b[0m \u001b[0mgroup\u001b[0m\u001b[0;34m.\u001b[0m\u001b[0mset_joint_value_target\u001b[0m\u001b[0;34m(\u001b[0m\u001b[0mgroup_variable_values\u001b[0m\u001b[0;34m)\u001b[0m\u001b[0;34m\u001b[0m\u001b[0m\n\u001b[1;32m      3\u001b[0m \u001b[0;34m\u001b[0m\u001b[0m\n\u001b[1;32m      4\u001b[0m \u001b[0mplan2\u001b[0m \u001b[0;34m=\u001b[0m \u001b[0mgroup\u001b[0m\u001b[0;34m.\u001b[0m\u001b[0mplan\u001b[0m\u001b[0;34m(\u001b[0m\u001b[0;34m)\u001b[0m\u001b[0;34m\u001b[0m\u001b[0m\n\u001b[1;32m      5\u001b[0m \u001b[0;34m\u001b[0m\u001b[0m\n",
      "\u001b[0;31mNameError\u001b[0m: name 'group_variable_values' is not defined"
     ]
    }
   ],
   "source": [
    "group_variable_values[0] = 1.0\n",
    "group.set_joint_value_target(group_variable_values)\n",
    "\n",
    "plan2 = group.plan()\n",
    "\n",
    "print \"============ Waiting while RVIZ displays plan2...\"\n",
    "rospy.sleep(5)"
   ]
  },
  {
   "cell_type": "code",
   "execution_count": null,
   "metadata": {},
   "outputs": [],
   "source": []
  },
  {
   "cell_type": "code",
   "execution_count": 29,
   "metadata": {},
   "outputs": [],
   "source": [
    "waypoints = []\n",
    "\n",
    "# start with the current pose\n",
    "waypoints.append(group.get_current_pose().pose)\n",
    "\n",
    "# first orient gripper and move forward (+x)\n",
    "wpose = group.get_current_pose().pose\n",
    "wpose.orientation.w = 1.0\n",
    "wpose.position.x = waypoints[0].position.x + 0.1\n",
    "wpose.position.y = waypoints[0].position.y\n",
    "wpose.position.z = waypoints[0].position.z\n",
    "waypoints.append(copy.deepcopy(wpose))\n",
    "\n",
    "\n",
    "\n",
    "# second move down\n",
    "wpose.position.z -= 0.10\n",
    "waypoints.append(copy.deepcopy(wpose))\n",
    "\n",
    "wpose.position.y += 0.2\n",
    "waypoints.append(copy.deepcopy(wpose))"
   ]
  },
  {
   "cell_type": "code",
   "execution_count": 30,
   "metadata": {},
   "outputs": [
    {
     "data": {
      "text/plain": [
       "position: \n",
       "  x: 0.816667321565\n",
       "  y: 0.192367680952\n",
       "  z: -0.00848465957111\n",
       "orientation: \n",
       "  x: -0.70670447216\n",
       "  y: -0.707506283161\n",
       "  z: 0.00135136544053\n",
       "  w: 0.00134986193968"
      ]
     },
     "execution_count": 30,
     "metadata": {},
     "output_type": "execute_result"
    }
   ],
   "source": [
    "group.get_current_pose().pose"
   ]
  },
  {
   "cell_type": "code",
   "execution_count": 31,
   "metadata": {},
   "outputs": [
    {
     "name": "stdout",
     "output_type": "stream",
     "text": [
      "============ Waiting while RVIZ displays plan3...\n"
     ]
    }
   ],
   "source": [
    "(plan3, fraction) = group.compute_cartesian_path(\n",
    "                             waypoints,   # waypoints to follow\n",
    "                             0.001,        # eef_step\n",
    "                             0.0)         # jump_threshold\n",
    "\n",
    "print \"============ Waiting while RVIZ displays plan3...\"\n",
    "rospy.sleep(5)"
   ]
  },
  {
   "cell_type": "code",
   "execution_count": 28,
   "metadata": {},
   "outputs": [
    {
     "data": {
      "text/plain": [
       "joint_trajectory: \n",
       "  header: \n",
       "    seq: 0\n",
       "    stamp: \n",
       "      secs: 0\n",
       "      nsecs:         0\n",
       "    frame_id: /world\n",
       "  joint_names: ['shoulder_pan_joint', 'shoulder_lift_joint', 'elbow_joint', 'wrist_1_joint', 'wrist_2_joint', 'wrist_3_joint']\n",
       "  points: \n",
       "    - \n",
       "      positions: [0.001123541628103908, 0.003654439389113584, 1.9799400450715154e-05, 0.00013686327253648045, -1.0392487762800329e-05, 9.013258413403946e-06]\n",
       "      velocities: [0.0, 0.0, 0.0, 0.0, 0.0, 0.0]\n",
       "      accelerations: [0.0, 0.0, 0.0, 0.0, 0.0, 0.0]\n",
       "      effort: []\n",
       "      time_from_start: \n",
       "        secs: 0\n",
       "        nsecs:         0\n",
       "    - \n",
       "      positions: [0.001123541628103908, 0.003654439389113584, 1.9799400450715154e-05, 0.00013686327253648045, -1.0392487762800329e-05, 9.013258413403946e-06]\n",
       "      velocities: [0.0, 0.0, 0.0, 0.0, 0.0, 0.0]\n",
       "      accelerations: [0.0, 0.0, 0.0, 0.0, 0.0, 0.0]\n",
       "      effort: []\n",
       "      time_from_start: \n",
       "        secs: 0\n",
       "        nsecs:         0\n",
       "multi_dof_joint_trajectory: \n",
       "  header: \n",
       "    seq: 0\n",
       "    stamp: \n",
       "      secs: 0\n",
       "      nsecs:         0\n",
       "    frame_id: ''\n",
       "  joint_names: []\n",
       "  points: []"
      ]
     },
     "execution_count": 28,
     "metadata": {},
     "output_type": "execute_result"
    }
   ],
   "source": [
    "plan3"
   ]
  },
  {
   "cell_type": "code",
   "execution_count": null,
   "metadata": {},
   "outputs": [],
   "source": [
    "\n",
    "# second move down\n",
    "wpose.position.z -= 0.10\n",
    "waypoints.append(copy.deepcopy(wpose))\n",
    "\n",
    "wpose.position.y += 0.2\n",
    "waypoints.append(copy.deepcopy(wpose))"
   ]
  }
 ],
 "metadata": {
  "kernelspec": {
   "display_name": "Python 2",
   "language": "python",
   "name": "python2"
  },
  "language_info": {
   "codemirror_mode": {
    "name": "ipython",
    "version": 2
   },
   "file_extension": ".py",
   "mimetype": "text/x-python",
   "name": "python",
   "nbconvert_exporter": "python",
   "pygments_lexer": "ipython2",
   "version": "2.7.12"
  }
 },
 "nbformat": 4,
 "nbformat_minor": 2
}
